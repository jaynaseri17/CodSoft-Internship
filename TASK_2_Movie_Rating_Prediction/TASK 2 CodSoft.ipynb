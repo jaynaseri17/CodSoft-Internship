{
 "cells": [
  {
   "cell_type": "markdown",
   "id": "02213e9f",
   "metadata": {},
   "source": [
    "# TASK 2"
   ]
  },
  {
   "cell_type": "code",
   "execution_count": 42,
   "id": "3b3caec3",
   "metadata": {},
   "outputs": [],
   "source": [
    "import pandas as pd\n",
    "import numpy as np\n",
    "import random as rnd\n",
    "import seaborn as sns\n",
    "import matplotlib.pyplot as plt\n",
    "%matplotlib inline\n",
    "\n",
    "#Import warnings\n",
    "import warnings\n",
    "warnings.filterwarnings(\"ignore\")"
   ]
  },
  {
   "cell_type": "code",
   "execution_count": 2,
   "id": "aa35a097",
   "metadata": {},
   "outputs": [],
   "source": [
    "df_movie = pd.read_csv('IMDb Movies India.csv', encoding='latin-1')"
   ]
  },
  {
   "cell_type": "code",
   "execution_count": 3,
   "id": "b202af52",
   "metadata": {},
   "outputs": [
    {
     "data": {
      "text/html": [
       "<div>\n",
       "<style scoped>\n",
       "    .dataframe tbody tr th:only-of-type {\n",
       "        vertical-align: middle;\n",
       "    }\n",
       "\n",
       "    .dataframe tbody tr th {\n",
       "        vertical-align: top;\n",
       "    }\n",
       "\n",
       "    .dataframe thead th {\n",
       "        text-align: right;\n",
       "    }\n",
       "</style>\n",
       "<table border=\"1\" class=\"dataframe\">\n",
       "  <thead>\n",
       "    <tr style=\"text-align: right;\">\n",
       "      <th></th>\n",
       "      <th>Name</th>\n",
       "      <th>Year</th>\n",
       "      <th>Duration</th>\n",
       "      <th>Genre</th>\n",
       "      <th>Rating</th>\n",
       "      <th>Votes</th>\n",
       "      <th>Director</th>\n",
       "      <th>Actor 1</th>\n",
       "      <th>Actor 2</th>\n",
       "      <th>Actor 3</th>\n",
       "    </tr>\n",
       "  </thead>\n",
       "  <tbody>\n",
       "    <tr>\n",
       "      <th>0</th>\n",
       "      <td></td>\n",
       "      <td>NaN</td>\n",
       "      <td>NaN</td>\n",
       "      <td>Drama</td>\n",
       "      <td>NaN</td>\n",
       "      <td>NaN</td>\n",
       "      <td>J.S. Randhawa</td>\n",
       "      <td>Manmauji</td>\n",
       "      <td>Birbal</td>\n",
       "      <td>Rajendra Bhatia</td>\n",
       "    </tr>\n",
       "    <tr>\n",
       "      <th>1</th>\n",
       "      <td>#Gadhvi (He thought he was Gandhi)</td>\n",
       "      <td>(2019)</td>\n",
       "      <td>109 min</td>\n",
       "      <td>Drama</td>\n",
       "      <td>7.0</td>\n",
       "      <td>8</td>\n",
       "      <td>Gaurav Bakshi</td>\n",
       "      <td>Rasika Dugal</td>\n",
       "      <td>Vivek Ghamande</td>\n",
       "      <td>Arvind Jangid</td>\n",
       "    </tr>\n",
       "    <tr>\n",
       "      <th>2</th>\n",
       "      <td>#Homecoming</td>\n",
       "      <td>(2021)</td>\n",
       "      <td>90 min</td>\n",
       "      <td>Drama, Musical</td>\n",
       "      <td>NaN</td>\n",
       "      <td>NaN</td>\n",
       "      <td>Soumyajit Majumdar</td>\n",
       "      <td>Sayani Gupta</td>\n",
       "      <td>Plabita Borthakur</td>\n",
       "      <td>Roy Angana</td>\n",
       "    </tr>\n",
       "    <tr>\n",
       "      <th>3</th>\n",
       "      <td>#Yaaram</td>\n",
       "      <td>(2019)</td>\n",
       "      <td>110 min</td>\n",
       "      <td>Comedy, Romance</td>\n",
       "      <td>4.4</td>\n",
       "      <td>35</td>\n",
       "      <td>Ovais Khan</td>\n",
       "      <td>Prateik</td>\n",
       "      <td>Ishita Raj</td>\n",
       "      <td>Siddhant Kapoor</td>\n",
       "    </tr>\n",
       "    <tr>\n",
       "      <th>4</th>\n",
       "      <td>...And Once Again</td>\n",
       "      <td>(2010)</td>\n",
       "      <td>105 min</td>\n",
       "      <td>Drama</td>\n",
       "      <td>NaN</td>\n",
       "      <td>NaN</td>\n",
       "      <td>Amol Palekar</td>\n",
       "      <td>Rajat Kapoor</td>\n",
       "      <td>Rituparna Sengupta</td>\n",
       "      <td>Antara Mali</td>\n",
       "    </tr>\n",
       "  </tbody>\n",
       "</table>\n",
       "</div>"
      ],
      "text/plain": [
       "                                 Name    Year Duration            Genre  \\\n",
       "0                                         NaN      NaN            Drama   \n",
       "1  #Gadhvi (He thought he was Gandhi)  (2019)  109 min            Drama   \n",
       "2                         #Homecoming  (2021)   90 min   Drama, Musical   \n",
       "3                             #Yaaram  (2019)  110 min  Comedy, Romance   \n",
       "4                   ...And Once Again  (2010)  105 min            Drama   \n",
       "\n",
       "   Rating Votes            Director       Actor 1             Actor 2  \\\n",
       "0     NaN   NaN       J.S. Randhawa      Manmauji              Birbal   \n",
       "1     7.0     8       Gaurav Bakshi  Rasika Dugal      Vivek Ghamande   \n",
       "2     NaN   NaN  Soumyajit Majumdar  Sayani Gupta   Plabita Borthakur   \n",
       "3     4.4    35          Ovais Khan       Prateik          Ishita Raj   \n",
       "4     NaN   NaN        Amol Palekar  Rajat Kapoor  Rituparna Sengupta   \n",
       "\n",
       "           Actor 3  \n",
       "0  Rajendra Bhatia  \n",
       "1    Arvind Jangid  \n",
       "2       Roy Angana  \n",
       "3  Siddhant Kapoor  \n",
       "4      Antara Mali  "
      ]
     },
     "execution_count": 3,
     "metadata": {},
     "output_type": "execute_result"
    }
   ],
   "source": [
    "df_movie.head()"
   ]
  },
  {
   "cell_type": "code",
   "execution_count": 4,
   "id": "ada81ae3",
   "metadata": {},
   "outputs": [
    {
     "name": "stdout",
     "output_type": "stream",
     "text": [
      "<class 'pandas.core.frame.DataFrame'>\n",
      "RangeIndex: 15509 entries, 0 to 15508\n",
      "Data columns (total 10 columns):\n",
      " #   Column    Non-Null Count  Dtype  \n",
      "---  ------    --------------  -----  \n",
      " 0   Name      15509 non-null  object \n",
      " 1   Year      14981 non-null  object \n",
      " 2   Duration  7240 non-null   object \n",
      " 3   Genre     13632 non-null  object \n",
      " 4   Rating    7919 non-null   float64\n",
      " 5   Votes     7920 non-null   object \n",
      " 6   Director  14984 non-null  object \n",
      " 7   Actor 1   13892 non-null  object \n",
      " 8   Actor 2   13125 non-null  object \n",
      " 9   Actor 3   12365 non-null  object \n",
      "dtypes: float64(1), object(9)\n",
      "memory usage: 1.2+ MB\n"
     ]
    }
   ],
   "source": [
    "df_movie.info()"
   ]
  },
  {
   "cell_type": "code",
   "execution_count": 5,
   "id": "da71f3e7",
   "metadata": {},
   "outputs": [
    {
     "data": {
      "text/plain": [
       "(15509, 10)"
      ]
     },
     "execution_count": 5,
     "metadata": {},
     "output_type": "execute_result"
    }
   ],
   "source": [
    "df_movie.shape"
   ]
  },
  {
   "cell_type": "code",
   "execution_count": 6,
   "id": "d4553c0f",
   "metadata": {},
   "outputs": [
    {
     "data": {
      "text/html": [
       "<div>\n",
       "<style scoped>\n",
       "    .dataframe tbody tr th:only-of-type {\n",
       "        vertical-align: middle;\n",
       "    }\n",
       "\n",
       "    .dataframe tbody tr th {\n",
       "        vertical-align: top;\n",
       "    }\n",
       "\n",
       "    .dataframe thead th {\n",
       "        text-align: right;\n",
       "    }\n",
       "</style>\n",
       "<table border=\"1\" class=\"dataframe\">\n",
       "  <thead>\n",
       "    <tr style=\"text-align: right;\">\n",
       "      <th></th>\n",
       "      <th>Rating</th>\n",
       "    </tr>\n",
       "  </thead>\n",
       "  <tbody>\n",
       "    <tr>\n",
       "      <th>count</th>\n",
       "      <td>7919.000000</td>\n",
       "    </tr>\n",
       "    <tr>\n",
       "      <th>mean</th>\n",
       "      <td>5.841621</td>\n",
       "    </tr>\n",
       "    <tr>\n",
       "      <th>std</th>\n",
       "      <td>1.381777</td>\n",
       "    </tr>\n",
       "    <tr>\n",
       "      <th>min</th>\n",
       "      <td>1.100000</td>\n",
       "    </tr>\n",
       "    <tr>\n",
       "      <th>25%</th>\n",
       "      <td>4.900000</td>\n",
       "    </tr>\n",
       "    <tr>\n",
       "      <th>50%</th>\n",
       "      <td>6.000000</td>\n",
       "    </tr>\n",
       "    <tr>\n",
       "      <th>75%</th>\n",
       "      <td>6.800000</td>\n",
       "    </tr>\n",
       "    <tr>\n",
       "      <th>max</th>\n",
       "      <td>10.000000</td>\n",
       "    </tr>\n",
       "  </tbody>\n",
       "</table>\n",
       "</div>"
      ],
      "text/plain": [
       "            Rating\n",
       "count  7919.000000\n",
       "mean      5.841621\n",
       "std       1.381777\n",
       "min       1.100000\n",
       "25%       4.900000\n",
       "50%       6.000000\n",
       "75%       6.800000\n",
       "max      10.000000"
      ]
     },
     "execution_count": 6,
     "metadata": {},
     "output_type": "execute_result"
    }
   ],
   "source": [
    "df_movie.describe()"
   ]
  },
  {
   "cell_type": "code",
   "execution_count": 7,
   "id": "c2c28605",
   "metadata": {},
   "outputs": [
    {
     "data": {
      "text/plain": [
       "Name           0\n",
       "Year         528\n",
       "Duration    8269\n",
       "Genre       1877\n",
       "Rating      7590\n",
       "Votes       7589\n",
       "Director     525\n",
       "Actor 1     1617\n",
       "Actor 2     2384\n",
       "Actor 3     3144\n",
       "dtype: int64"
      ]
     },
     "execution_count": 7,
     "metadata": {},
     "output_type": "execute_result"
    }
   ],
   "source": [
    "df_movie.isna().sum()"
   ]
  },
  {
   "cell_type": "code",
   "execution_count": 8,
   "id": "eadebe3b",
   "metadata": {},
   "outputs": [
    {
     "data": {
      "text/html": [
       "<div>\n",
       "<style scoped>\n",
       "    .dataframe tbody tr th:only-of-type {\n",
       "        vertical-align: middle;\n",
       "    }\n",
       "\n",
       "    .dataframe tbody tr th {\n",
       "        vertical-align: top;\n",
       "    }\n",
       "\n",
       "    .dataframe thead th {\n",
       "        text-align: right;\n",
       "    }\n",
       "</style>\n",
       "<table border=\"1\" class=\"dataframe\">\n",
       "  <thead>\n",
       "    <tr style=\"text-align: right;\">\n",
       "      <th></th>\n",
       "      <th>Name</th>\n",
       "      <th>Year</th>\n",
       "      <th>Duration</th>\n",
       "      <th>Genre</th>\n",
       "      <th>Rating</th>\n",
       "      <th>Votes</th>\n",
       "      <th>Director</th>\n",
       "      <th>Actor 1</th>\n",
       "      <th>Actor 2</th>\n",
       "      <th>Actor 3</th>\n",
       "    </tr>\n",
       "  </thead>\n",
       "  <tbody>\n",
       "    <tr>\n",
       "      <th>1</th>\n",
       "      <td>#Gadhvi (He thought he was Gandhi)</td>\n",
       "      <td>(2019)</td>\n",
       "      <td>109 min</td>\n",
       "      <td>Drama</td>\n",
       "      <td>7.0</td>\n",
       "      <td>8</td>\n",
       "      <td>Gaurav Bakshi</td>\n",
       "      <td>Rasika Dugal</td>\n",
       "      <td>Vivek Ghamande</td>\n",
       "      <td>Arvind Jangid</td>\n",
       "    </tr>\n",
       "    <tr>\n",
       "      <th>3</th>\n",
       "      <td>#Yaaram</td>\n",
       "      <td>(2019)</td>\n",
       "      <td>110 min</td>\n",
       "      <td>Comedy, Romance</td>\n",
       "      <td>4.4</td>\n",
       "      <td>35</td>\n",
       "      <td>Ovais Khan</td>\n",
       "      <td>Prateik</td>\n",
       "      <td>Ishita Raj</td>\n",
       "      <td>Siddhant Kapoor</td>\n",
       "    </tr>\n",
       "    <tr>\n",
       "      <th>5</th>\n",
       "      <td>...Aur Pyaar Ho Gaya</td>\n",
       "      <td>(1997)</td>\n",
       "      <td>147 min</td>\n",
       "      <td>Comedy, Drama, Musical</td>\n",
       "      <td>4.7</td>\n",
       "      <td>827</td>\n",
       "      <td>Rahul Rawail</td>\n",
       "      <td>Bobby Deol</td>\n",
       "      <td>Aishwarya Rai Bachchan</td>\n",
       "      <td>Shammi Kapoor</td>\n",
       "    </tr>\n",
       "    <tr>\n",
       "      <th>6</th>\n",
       "      <td>...Yahaan</td>\n",
       "      <td>(2005)</td>\n",
       "      <td>142 min</td>\n",
       "      <td>Drama, Romance, War</td>\n",
       "      <td>7.4</td>\n",
       "      <td>1,086</td>\n",
       "      <td>Shoojit Sircar</td>\n",
       "      <td>Jimmy Sheirgill</td>\n",
       "      <td>Minissha Lamba</td>\n",
       "      <td>Yashpal Sharma</td>\n",
       "    </tr>\n",
       "    <tr>\n",
       "      <th>8</th>\n",
       "      <td>?: A Question Mark</td>\n",
       "      <td>(2012)</td>\n",
       "      <td>82 min</td>\n",
       "      <td>Horror, Mystery, Thriller</td>\n",
       "      <td>5.6</td>\n",
       "      <td>326</td>\n",
       "      <td>Allyson Patel</td>\n",
       "      <td>Yash Dave</td>\n",
       "      <td>Muntazir Ahmad</td>\n",
       "      <td>Kiran Bhatia</td>\n",
       "    </tr>\n",
       "  </tbody>\n",
       "</table>\n",
       "</div>"
      ],
      "text/plain": [
       "                                 Name    Year Duration  \\\n",
       "1  #Gadhvi (He thought he was Gandhi)  (2019)  109 min   \n",
       "3                             #Yaaram  (2019)  110 min   \n",
       "5                ...Aur Pyaar Ho Gaya  (1997)  147 min   \n",
       "6                           ...Yahaan  (2005)  142 min   \n",
       "8                  ?: A Question Mark  (2012)   82 min   \n",
       "\n",
       "                       Genre  Rating  Votes        Director          Actor 1  \\\n",
       "1                      Drama     7.0      8   Gaurav Bakshi     Rasika Dugal   \n",
       "3            Comedy, Romance     4.4     35      Ovais Khan          Prateik   \n",
       "5     Comedy, Drama, Musical     4.7    827    Rahul Rawail       Bobby Deol   \n",
       "6        Drama, Romance, War     7.4  1,086  Shoojit Sircar  Jimmy Sheirgill   \n",
       "8  Horror, Mystery, Thriller     5.6    326   Allyson Patel        Yash Dave   \n",
       "\n",
       "                  Actor 2          Actor 3  \n",
       "1          Vivek Ghamande    Arvind Jangid  \n",
       "3              Ishita Raj  Siddhant Kapoor  \n",
       "5  Aishwarya Rai Bachchan    Shammi Kapoor  \n",
       "6          Minissha Lamba   Yashpal Sharma  \n",
       "8          Muntazir Ahmad     Kiran Bhatia  "
      ]
     },
     "execution_count": 8,
     "metadata": {},
     "output_type": "execute_result"
    }
   ],
   "source": [
    "df_movie.dropna(inplace=True)\n",
    "df_movie.head(5)"
   ]
  },
  {
   "cell_type": "code",
   "execution_count": 10,
   "id": "28250f7e",
   "metadata": {},
   "outputs": [],
   "source": [
    "df_movie['Year'] = df_movie['Year'].str.extract('(\\d+)')\n",
    "df_movie['Year'] = pd.to_numeric(df_movie['Year'],errors='coerce')\n",
    "df_movie['Duration'] = df_movie['Duration'].str.extract('(\\d+)')\n",
    "df_movie['Duration'] = pd.to_numeric(df_movie['Duration'],errors='coerce')"
   ]
  },
  {
   "cell_type": "code",
   "execution_count": 11,
   "id": "83c7efba",
   "metadata": {},
   "outputs": [
    {
     "data": {
      "text/plain": [
       "1    2019\n",
       "3    2019\n",
       "5    1997\n",
       "6    2005\n",
       "8    2012\n",
       "Name: Year, dtype: int64"
      ]
     },
     "execution_count": 11,
     "metadata": {},
     "output_type": "execute_result"
    }
   ],
   "source": [
    "df_movie[\"Year\"].head()"
   ]
  },
  {
   "cell_type": "code",
   "execution_count": 12,
   "id": "65ad61a5",
   "metadata": {},
   "outputs": [
    {
     "data": {
      "text/plain": [
       "1                         Drama\n",
       "3               Comedy, Romance\n",
       "5        Comedy, Drama, Musical\n",
       "6           Drama, Romance, War\n",
       "8     Horror, Mystery, Thriller\n",
       "9       Action, Crime, Thriller\n",
       "10                        Drama\n",
       "11                       Horror\n",
       "12    Horror, Romance, Thriller\n",
       "13       Comedy, Drama, Romance\n",
       "Name: Genre, dtype: object"
      ]
     },
     "execution_count": 12,
     "metadata": {},
     "output_type": "execute_result"
    }
   ],
   "source": [
    "genre = df_movie['Genre']\n",
    "genre.head(10)"
   ]
  },
  {
   "cell_type": "code",
   "execution_count": 13,
   "id": "46e4c95f",
   "metadata": {},
   "outputs": [
    {
     "data": {
      "text/html": [
       "<div>\n",
       "<style scoped>\n",
       "    .dataframe tbody tr th:only-of-type {\n",
       "        vertical-align: middle;\n",
       "    }\n",
       "\n",
       "    .dataframe tbody tr th {\n",
       "        vertical-align: top;\n",
       "    }\n",
       "\n",
       "    .dataframe thead th {\n",
       "        text-align: right;\n",
       "    }\n",
       "</style>\n",
       "<table border=\"1\" class=\"dataframe\">\n",
       "  <thead>\n",
       "    <tr style=\"text-align: right;\">\n",
       "      <th></th>\n",
       "      <th>0</th>\n",
       "      <th>1</th>\n",
       "      <th>2</th>\n",
       "    </tr>\n",
       "  </thead>\n",
       "  <tbody>\n",
       "    <tr>\n",
       "      <th>1</th>\n",
       "      <td>Drama</td>\n",
       "      <td>None</td>\n",
       "      <td>None</td>\n",
       "    </tr>\n",
       "    <tr>\n",
       "      <th>3</th>\n",
       "      <td>Comedy</td>\n",
       "      <td>Romance</td>\n",
       "      <td>None</td>\n",
       "    </tr>\n",
       "    <tr>\n",
       "      <th>5</th>\n",
       "      <td>Comedy</td>\n",
       "      <td>Drama</td>\n",
       "      <td>Musical</td>\n",
       "    </tr>\n",
       "    <tr>\n",
       "      <th>6</th>\n",
       "      <td>Drama</td>\n",
       "      <td>Romance</td>\n",
       "      <td>War</td>\n",
       "    </tr>\n",
       "    <tr>\n",
       "      <th>8</th>\n",
       "      <td>Horror</td>\n",
       "      <td>Mystery</td>\n",
       "      <td>Thriller</td>\n",
       "    </tr>\n",
       "    <tr>\n",
       "      <th>9</th>\n",
       "      <td>Action</td>\n",
       "      <td>Crime</td>\n",
       "      <td>Thriller</td>\n",
       "    </tr>\n",
       "    <tr>\n",
       "      <th>10</th>\n",
       "      <td>Drama</td>\n",
       "      <td>None</td>\n",
       "      <td>None</td>\n",
       "    </tr>\n",
       "    <tr>\n",
       "      <th>11</th>\n",
       "      <td>Horror</td>\n",
       "      <td>None</td>\n",
       "      <td>None</td>\n",
       "    </tr>\n",
       "    <tr>\n",
       "      <th>12</th>\n",
       "      <td>Horror</td>\n",
       "      <td>Romance</td>\n",
       "      <td>Thriller</td>\n",
       "    </tr>\n",
       "    <tr>\n",
       "      <th>13</th>\n",
       "      <td>Comedy</td>\n",
       "      <td>Drama</td>\n",
       "      <td>Romance</td>\n",
       "    </tr>\n",
       "  </tbody>\n",
       "</table>\n",
       "</div>"
      ],
      "text/plain": [
       "         0         1          2\n",
       "1    Drama      None       None\n",
       "3   Comedy   Romance       None\n",
       "5   Comedy     Drama    Musical\n",
       "6    Drama   Romance        War\n",
       "8   Horror   Mystery   Thriller\n",
       "9   Action     Crime   Thriller\n",
       "10   Drama      None       None\n",
       "11  Horror      None       None\n",
       "12  Horror   Romance   Thriller\n",
       "13  Comedy     Drama    Romance"
      ]
     },
     "execution_count": 13,
     "metadata": {},
     "output_type": "execute_result"
    }
   ],
   "source": [
    "genres = df_movie['Genre'].str.split(',', expand=True)\n",
    "genres.head(10)"
   ]
  },
  {
   "cell_type": "code",
   "execution_count": 14,
   "id": "1abe05da",
   "metadata": {},
   "outputs": [
    {
     "name": "stdout",
     "output_type": "stream",
     "text": [
      " Action: 34\n",
      " Adventure: 172\n",
      " Biography: 31\n",
      " Comedy: 355\n",
      " Crime: 604\n",
      " Drama: 1954\n",
      " Family: 364\n",
      " Fantasy: 115\n",
      " History: 91\n",
      " Horror: 74\n",
      " Music: 50\n",
      " Musical: 322\n",
      " Mystery: 245\n",
      " News: 1\n",
      " Romance: 1221\n",
      " Sci-Fi: 28\n",
      " Sport: 38\n",
      " Thriller: 590\n",
      " War: 30\n",
      " Western: 1\n",
      "Action: 1652\n",
      "Adventure: 105\n",
      "Animation: 40\n",
      "Biography: 84\n",
      "Comedy: 989\n",
      "Crime: 271\n",
      "Documentary: 48\n",
      "Drama: 1842\n",
      "Family: 52\n",
      "Fantasy: 31\n",
      "History: 8\n",
      "Horror: 128\n",
      "Music: 3\n",
      "Musical: 90\n",
      "Mystery: 59\n",
      "Romance: 159\n",
      "Sci-Fi: 4\n",
      "Sport: 2\n",
      "Thriller: 89\n",
      "War: 3\n"
     ]
    }
   ],
   "source": [
    "genre_counts ={}\n",
    "for genre in genres.values.flatten():\n",
    "    if genre is not None:\n",
    "        if genre in genre_counts:\n",
    "            genre_counts[genre] += 1\n",
    "        else:\n",
    "            genre_counts[genre] = 1\n",
    "genre_counts = {genre: count for genre, count in sorted(genre_counts.items())}\n",
    "for genre,count in genre_counts.items():\n",
    "    print(f\"{genre}: {count}\")"
   ]
  },
  {
   "cell_type": "code",
   "execution_count": 15,
   "id": "d0623b78",
   "metadata": {},
   "outputs": [
    {
     "data": {
      "text/plain": [
       "Drama                     844\n",
       "Drama, Romance            332\n",
       "Action, Crime, Drama      329\n",
       "Action, Drama             206\n",
       "Comedy, Drama             205\n",
       "Comedy, Drama, Romance    188\n",
       "Comedy                    187\n",
       "Action                    170\n",
       "Drama, Family             160\n",
       "Romance                   126\n",
       "Name: Genre, dtype: int64"
      ]
     },
     "execution_count": 15,
     "metadata": {},
     "output_type": "execute_result"
    }
   ],
   "source": [
    "genresPie = df_movie['Genre'].value_counts()\n",
    "genresPie.head(10)"
   ]
  },
  {
   "cell_type": "code",
   "execution_count": 16,
   "id": "74a20bc0",
   "metadata": {},
   "outputs": [
    {
     "data": {
      "text/html": [
       "<div>\n",
       "<style scoped>\n",
       "    .dataframe tbody tr th:only-of-type {\n",
       "        vertical-align: middle;\n",
       "    }\n",
       "\n",
       "    .dataframe tbody tr th {\n",
       "        vertical-align: top;\n",
       "    }\n",
       "\n",
       "    .dataframe thead th {\n",
       "        text-align: right;\n",
       "    }\n",
       "</style>\n",
       "<table border=\"1\" class=\"dataframe\">\n",
       "  <thead>\n",
       "    <tr style=\"text-align: right;\">\n",
       "      <th></th>\n",
       "      <th>Genre</th>\n",
       "      <th>Count</th>\n",
       "    </tr>\n",
       "  </thead>\n",
       "  <tbody>\n",
       "    <tr>\n",
       "      <th>0</th>\n",
       "      <td>Drama</td>\n",
       "      <td>844</td>\n",
       "    </tr>\n",
       "    <tr>\n",
       "      <th>1</th>\n",
       "      <td>Drama, Romance</td>\n",
       "      <td>332</td>\n",
       "    </tr>\n",
       "    <tr>\n",
       "      <th>2</th>\n",
       "      <td>Action, Crime, Drama</td>\n",
       "      <td>329</td>\n",
       "    </tr>\n",
       "    <tr>\n",
       "      <th>3</th>\n",
       "      <td>Action, Drama</td>\n",
       "      <td>206</td>\n",
       "    </tr>\n",
       "    <tr>\n",
       "      <th>4</th>\n",
       "      <td>Comedy, Drama</td>\n",
       "      <td>205</td>\n",
       "    </tr>\n",
       "    <tr>\n",
       "      <th>5</th>\n",
       "      <td>Comedy, Drama, Romance</td>\n",
       "      <td>188</td>\n",
       "    </tr>\n",
       "    <tr>\n",
       "      <th>6</th>\n",
       "      <td>Comedy</td>\n",
       "      <td>187</td>\n",
       "    </tr>\n",
       "    <tr>\n",
       "      <th>7</th>\n",
       "      <td>Action</td>\n",
       "      <td>170</td>\n",
       "    </tr>\n",
       "    <tr>\n",
       "      <th>8</th>\n",
       "      <td>Drama, Family</td>\n",
       "      <td>160</td>\n",
       "    </tr>\n",
       "    <tr>\n",
       "      <th>9</th>\n",
       "      <td>Romance</td>\n",
       "      <td>126</td>\n",
       "    </tr>\n",
       "  </tbody>\n",
       "</table>\n",
       "</div>"
      ],
      "text/plain": [
       "                    Genre  Count\n",
       "0                   Drama    844\n",
       "1          Drama, Romance    332\n",
       "2    Action, Crime, Drama    329\n",
       "3           Action, Drama    206\n",
       "4           Comedy, Drama    205\n",
       "5  Comedy, Drama, Romance    188\n",
       "6                  Comedy    187\n",
       "7                  Action    170\n",
       "8           Drama, Family    160\n",
       "9                 Romance    126"
      ]
     },
     "execution_count": 16,
     "metadata": {},
     "output_type": "execute_result"
    }
   ],
   "source": [
    "genrePie = pd.DataFrame(list(genresPie.items()))\n",
    "genrePie = genrePie.rename(columns = {0: 'Genre', 1:'Count'})\n",
    "genrePie.head(10)"
   ]
  },
  {
   "cell_type": "code",
   "execution_count": 17,
   "id": "b936fd27",
   "metadata": {},
   "outputs": [
    {
     "data": {
      "text/plain": [
       "1        8\n",
       "3       35\n",
       "5      827\n",
       "6     1086\n",
       "8      326\n",
       "9       11\n",
       "10      17\n",
       "11      59\n",
       "12     983\n",
       "13     512\n",
       "Name: Votes, dtype: int32"
      ]
     },
     "execution_count": 17,
     "metadata": {},
     "output_type": "execute_result"
    }
   ],
   "source": [
    "df_movie['Votes'] = df_movie['Votes'].str.replace(',','').astype(int)\n",
    "df_movie[\"Votes\"].head(10)"
   ]
  },
  {
   "cell_type": "code",
   "execution_count": 19,
   "id": "ee72cdc4",
   "metadata": {},
   "outputs": [
    {
     "data": {
      "text/plain": [
       "David Dhawan            41\n",
       "Mahesh Bhatt            39\n",
       "Ram Gopal Varma         33\n",
       "Hrishikesh Mukherjee    33\n",
       "Shakti Samanta          33\n",
       "Vikram Bhatt            30\n",
       "Priyadarshan            29\n",
       "Basu Chatterjee         23\n",
       "Rama Rao Tatineni       23\n",
       "Shyam Benegal           22\n",
       "Name: Director, dtype: int64"
      ]
     },
     "execution_count": 19,
     "metadata": {},
     "output_type": "execute_result"
    }
   ],
   "source": [
    "director = df_movie[\"Director\"].value_counts()\n",
    "director.head(10)"
   ]
  },
  {
   "cell_type": "code",
   "execution_count": 20,
   "id": "6a8da018",
   "metadata": {},
   "outputs": [
    {
     "data": {
      "text/plain": [
       "Mithun Chakraborty    160\n",
       "Amitabh Bachchan      148\n",
       "Dharmendra            146\n",
       "Ashok Kumar           124\n",
       "Akshay Kumar          120\n",
       "Shashi Kapoor         117\n",
       "Jeetendra             116\n",
       "Sanjay Dutt           101\n",
       "Rekha                  92\n",
       "Ajay Devgn             92\n",
       "dtype: int64"
      ]
     },
     "execution_count": 20,
     "metadata": {},
     "output_type": "execute_result"
    }
   ],
   "source": [
    "actor = pd.concat([df_movie['Actor 1'], df_movie['Actor 2'], df_movie['Actor 3']]).dropna().value_counts()\n",
    "actor.head(10)"
   ]
  },
  {
   "cell_type": "markdown",
   "id": "ad5d76cd",
   "metadata": {},
   "source": [
    "## Data Visualization"
   ]
  },
  {
   "cell_type": "code",
   "execution_count": 21,
   "id": "cb1c4501",
   "metadata": {},
   "outputs": [
    {
     "data": {
      "image/png": "[encoded data removed]",
      "text/plain": [
       "<Figure size 720x432 with 1 Axes>"
      ]
     },
     "metadata": {
      "needs_background": "light"
     },
     "output_type": "display_data"
    }
   ],
   "source": [
    "top_rated_movie = df_movie.sort_values(by='Rating', ascending=False).head(10)\n",
    "plt.figure(figsize=(10,6))\n",
    "plt.barh(top_rated_movie['Name'], top_rated_movie['Rating'], color='orange')\n",
    "plt.xlabel('Rating')\n",
    "plt.ylabel('Movie')\n",
    "plt.title('Highest Rated Movies (Top 10)')\n",
    "plt.gca().invert_yaxis()\n",
    "plt.show()"
   ]
  },
  {
   "cell_type": "code",
   "execution_count": 22,
   "id": "bf7e122d",
   "metadata": {},
   "outputs": [
    {
     "data": {
      "image/png": "[encoded data removed]",
      "text/plain": [
       "<Figure size 720x432 with 1 Axes>"
      ]
     },
     "metadata": {
      "needs_background": "light"
     },
     "output_type": "display_data"
    }
   ],
   "source": [
    "df_movie['Votes']= pd.to_numeric(df_movie['Votes'], errors='coerce')\n",
    "plt.figure(figsize=(10,6))\n",
    "plt.scatter(df_movie['Rating'], df_movie['Votes'], alpha=1.0, color='g')\n",
    "plt.xlabel('Rating')\n",
    "plt.ylabel('Votes')\n",
    "plt.title('Scatter plot of Rating v/s Votes')\n",
    "plt.grid(True)\n",
    "plt.show()"
   ]
  },
  {
   "cell_type": "code",
   "execution_count": 23,
   "id": "a8fae067",
   "metadata": {},
   "outputs": [
    {
     "data": {
      "image/png": "[encoded data removed]",
      "text/plain": [
       "<Figure size 864x432 with 1 Axes>"
      ]
     },
     "metadata": {
      "needs_background": "light"
     },
     "output_type": "display_data"
    }
   ],
   "source": [
    "actor = pd.concat([df_movie['Actor 1'], df_movie['Actor 2'], df_movie['Actor 3']])\n",
    "actor_count = actor.value_counts().reset_index()\n",
    "actor_count.columns = ['Actor', 'Number of Movies']\n",
    "plt.figure(figsize = (12,6))\n",
    "sns.barplot(x = 'Number of Movies', y = 'Actor', data = actor_count.head(10), palette = 'magma')\n",
    "plt.xlabel('Number of Movies')\n",
    "plt.ylabel('Actor')\n",
    "plt.title('Actors by Performance of their Movies (Top 10)')\n",
    "plt.show()"
   ]
  },
  {
   "cell_type": "code",
   "execution_count": 24,
   "id": "c408daf3",
   "metadata": {},
   "outputs": [
    {
     "ename": "NameError",
     "evalue": "name 'ax_line_seaborn' is not defined",
     "output_type": "error",
     "traceback": [
      "\u001b[1;31m---------------------------------------------------------------------------\u001b[0m",
      "\u001b[1;31mNameError\u001b[0m                                 Traceback (most recent call last)",
      "\u001b[1;32m~\\AppData\\Local\\Temp/ipykernel_22488/1044744594.py\u001b[0m in \u001b[0;36m<module>\u001b[1;34m\u001b[0m\n\u001b[0;32m      1\u001b[0m \u001b[0mrating_votes\u001b[0m \u001b[1;33m=\u001b[0m \u001b[0mdf_movie\u001b[0m\u001b[1;33m.\u001b[0m\u001b[0mgroupby\u001b[0m\u001b[1;33m(\u001b[0m\u001b[1;34m'Rating'\u001b[0m\u001b[1;33m)\u001b[0m\u001b[1;33m[\u001b[0m\u001b[1;34m'Votes'\u001b[0m\u001b[1;33m]\u001b[0m\u001b[1;33m.\u001b[0m\u001b[0msum\u001b[0m\u001b[1;33m(\u001b[0m\u001b[1;33m)\u001b[0m\u001b[1;33m.\u001b[0m\u001b[0mreset_index\u001b[0m\u001b[1;33m(\u001b[0m\u001b[1;33m)\u001b[0m\u001b[1;33m\u001b[0m\u001b[1;33m\u001b[0m\u001b[0m\n\u001b[0;32m      2\u001b[0m \u001b[0mplt\u001b[0m\u001b[1;33m.\u001b[0m\u001b[0mfigure\u001b[0m\u001b[1;33m(\u001b[0m\u001b[0mfigsize\u001b[0m \u001b[1;33m=\u001b[0m \u001b[1;33m(\u001b[0m\u001b[1;36m10\u001b[0m\u001b[1;33m,\u001b[0m\u001b[1;36m6\u001b[0m\u001b[1;33m)\u001b[0m\u001b[1;33m)\u001b[0m\u001b[1;33m\u001b[0m\u001b[1;33m\u001b[0m\u001b[0m\n\u001b[1;32m----> 3\u001b[1;33m \u001b[0max_line_seaborn\u001b[0m\u001b[1;33m.\u001b[0m\u001b[0mseaborn\u001b[0m \u001b[1;33m=\u001b[0m \u001b[0msns\u001b[0m\u001b[1;33m.\u001b[0m\u001b[0mlineplot\u001b[0m\u001b[1;33m(\u001b[0m\u001b[0mdata\u001b[0m \u001b[1;33m=\u001b[0m \u001b[0mrating_votes\u001b[0m\u001b[1;33m,\u001b[0m \u001b[0mx\u001b[0m \u001b[1;33m=\u001b[0m \u001b[1;34m'Rating'\u001b[0m\u001b[1;33m,\u001b[0m \u001b[0my\u001b[0m \u001b[1;33m=\u001b[0m \u001b[1;34m'Votes'\u001b[0m\u001b[1;33m,\u001b[0m \u001b[0mmarker\u001b[0m \u001b[1;33m=\u001b[0m \u001b[1;34m'o'\u001b[0m\u001b[1;33m)\u001b[0m\u001b[1;33m\u001b[0m\u001b[1;33m\u001b[0m\u001b[0m\n\u001b[0m\u001b[0;32m      4\u001b[0m \u001b[0max_line_seaborn\u001b[0m\u001b[1;33m.\u001b[0m\u001b[0mset_xlabel\u001b[0m\u001b[1;33m(\u001b[0m\u001b[1;34m'Rating'\u001b[0m\u001b[1;33m)\u001b[0m\u001b[1;33m\u001b[0m\u001b[1;33m\u001b[0m\u001b[0m\n\u001b[0;32m      5\u001b[0m \u001b[0max_line_seaborn\u001b[0m\u001b[1;33m.\u001b[0m\u001b[0mset_ylabel\u001b[0m\u001b[1;33m(\u001b[0m\u001b[1;34m'Total Votes'\u001b[0m\u001b[1;33m)\u001b[0m\u001b[1;33m\u001b[0m\u001b[1;33m\u001b[0m\u001b[0m\n",
      "\u001b[1;31mNameError\u001b[0m: name 'ax_line_seaborn' is not defined"
     ]
    },
    {
     "data": {
      "image/png": "[encoded data removed]",
      "text/plain": [
       "<Figure size 720x432 with 1 Axes>"
      ]
     },
     "metadata": {
      "needs_background": "light"
     },
     "output_type": "display_data"
    }
   ],
   "source": [
    "rating_votes = df_movie.groupby('Rating')['Votes'].sum().reset_index()\n",
    "plt.figure(figsize = (10,6))\n",
    "ax_line_seaborn.seaborn = sns.lineplot(data = rating_votes, x = 'Rating', y = 'Votes', marker = 'o')\n",
    "ax_line_seaborn.set_xlabel('Rating')\n",
    "ax_line_seaborn.set_ylabel('Total Votes')\n",
    "ax_line_seaborn.set_title('Total Votes per Rating')\n",
    "plt.show()"
   ]
  },
  {
   "cell_type": "code",
   "execution_count": 25,
   "id": "91172ecc",
   "metadata": {},
   "outputs": [
    {
     "data": {
      "text/html": [
       "<div>\n",
       "<style scoped>\n",
       "    .dataframe tbody tr th:only-of-type {\n",
       "        vertical-align: middle;\n",
       "    }\n",
       "\n",
       "    .dataframe tbody tr th {\n",
       "        vertical-align: top;\n",
       "    }\n",
       "\n",
       "    .dataframe thead th {\n",
       "        text-align: right;\n",
       "    }\n",
       "</style>\n",
       "<table border=\"1\" class=\"dataframe\">\n",
       "  <thead>\n",
       "    <tr style=\"text-align: right;\">\n",
       "      <th></th>\n",
       "      <th>Name</th>\n",
       "      <th>Year</th>\n",
       "      <th>Duration</th>\n",
       "      <th>Genre</th>\n",
       "      <th>Rating</th>\n",
       "      <th>Votes</th>\n",
       "      <th>Director</th>\n",
       "      <th>Actor 1</th>\n",
       "      <th>Actor 2</th>\n",
       "      <th>Actor 3</th>\n",
       "      <th>Actor</th>\n",
       "      <th>Directors</th>\n",
       "      <th>Genres</th>\n",
       "      <th>Actors</th>\n",
       "    </tr>\n",
       "  </thead>\n",
       "  <tbody>\n",
       "    <tr>\n",
       "      <th>1</th>\n",
       "      <td>#Gadhvi (He thought he was Gandhi)</td>\n",
       "      <td>2019</td>\n",
       "      <td>109</td>\n",
       "      <td>Drama</td>\n",
       "      <td>7.0</td>\n",
       "      <td>8</td>\n",
       "      <td>Gaurav Bakshi</td>\n",
       "      <td>Rasika Dugal</td>\n",
       "      <td>Vivek Ghamande</td>\n",
       "      <td>Arvind Jangid</td>\n",
       "      <td>Rasika Dugal,Vivek Ghamande,Arvind Jangid</td>\n",
       "      <td>629</td>\n",
       "      <td>229</td>\n",
       "      <td>3875</td>\n",
       "    </tr>\n",
       "    <tr>\n",
       "      <th>3</th>\n",
       "      <td>#Yaaram</td>\n",
       "      <td>2019</td>\n",
       "      <td>110</td>\n",
       "      <td>Comedy, Romance</td>\n",
       "      <td>4.4</td>\n",
       "      <td>35</td>\n",
       "      <td>Ovais Khan</td>\n",
       "      <td>Prateik</td>\n",
       "      <td>Ishita Raj</td>\n",
       "      <td>Siddhant Kapoor</td>\n",
       "      <td>Prateik,Ishita Raj,Siddhant Kapoor</td>\n",
       "      <td>1335</td>\n",
       "      <td>184</td>\n",
       "      <td>3343</td>\n",
       "    </tr>\n",
       "    <tr>\n",
       "      <th>5</th>\n",
       "      <td>...Aur Pyaar Ho Gaya</td>\n",
       "      <td>1997</td>\n",
       "      <td>147</td>\n",
       "      <td>Comedy, Drama, Musical</td>\n",
       "      <td>4.7</td>\n",
       "      <td>827</td>\n",
       "      <td>Rahul Rawail</td>\n",
       "      <td>Bobby Deol</td>\n",
       "      <td>Aishwarya Rai Bachchan</td>\n",
       "      <td>Shammi Kapoor</td>\n",
       "      <td>Bobby Deol,Aishwarya Rai Bachchan,Shammi Kapoor</td>\n",
       "      <td>1530</td>\n",
       "      <td>157</td>\n",
       "      <td>1119</td>\n",
       "    </tr>\n",
       "    <tr>\n",
       "      <th>6</th>\n",
       "      <td>...Yahaan</td>\n",
       "      <td>2005</td>\n",
       "      <td>142</td>\n",
       "      <td>Drama, Romance, War</td>\n",
       "      <td>7.4</td>\n",
       "      <td>1086</td>\n",
       "      <td>Shoojit Sircar</td>\n",
       "      <td>Jimmy Sheirgill</td>\n",
       "      <td>Minissha Lamba</td>\n",
       "      <td>Yashpal Sharma</td>\n",
       "      <td>Jimmy Sheirgill,Minissha Lamba,Yashpal Sharma</td>\n",
       "      <td>2044</td>\n",
       "      <td>289</td>\n",
       "      <td>2086</td>\n",
       "    </tr>\n",
       "    <tr>\n",
       "      <th>8</th>\n",
       "      <td>?: A Question Mark</td>\n",
       "      <td>2012</td>\n",
       "      <td>82</td>\n",
       "      <td>Horror, Mystery, Thriller</td>\n",
       "      <td>5.6</td>\n",
       "      <td>326</td>\n",
       "      <td>Allyson Patel</td>\n",
       "      <td>Yash Dave</td>\n",
       "      <td>Muntazir Ahmad</td>\n",
       "      <td>Kiran Bhatia</td>\n",
       "      <td>Yash Dave,Muntazir Ahmad,Kiran Bhatia</td>\n",
       "      <td>135</td>\n",
       "      <td>320</td>\n",
       "      <td>5562</td>\n",
       "    </tr>\n",
       "    <tr>\n",
       "      <th>9</th>\n",
       "      <td>@Andheri</td>\n",
       "      <td>2014</td>\n",
       "      <td>116</td>\n",
       "      <td>Action, Crime, Thriller</td>\n",
       "      <td>4.0</td>\n",
       "      <td>11</td>\n",
       "      <td>Biju Bhaskar Nair</td>\n",
       "      <td>Augustine</td>\n",
       "      <td>Fathima Babu</td>\n",
       "      <td>Byon</td>\n",
       "      <td>Augustine,Fathima Babu,Byon</td>\n",
       "      <td>401</td>\n",
       "      <td>37</td>\n",
       "      <td>974</td>\n",
       "    </tr>\n",
       "    <tr>\n",
       "      <th>10</th>\n",
       "      <td>1:1.6 An Ode to Lost Love</td>\n",
       "      <td>2004</td>\n",
       "      <td>96</td>\n",
       "      <td>Drama</td>\n",
       "      <td>6.2</td>\n",
       "      <td>17</td>\n",
       "      <td>Madhu Ambat</td>\n",
       "      <td>Rati Agnihotri</td>\n",
       "      <td>Gulshan Grover</td>\n",
       "      <td>Atul Kulkarni</td>\n",
       "      <td>Rati Agnihotri,Gulshan Grover,Atul Kulkarni</td>\n",
       "      <td>1083</td>\n",
       "      <td>229</td>\n",
       "      <td>3880</td>\n",
       "    </tr>\n",
       "    <tr>\n",
       "      <th>11</th>\n",
       "      <td>1:13:7 Ek Tera Saath</td>\n",
       "      <td>2016</td>\n",
       "      <td>120</td>\n",
       "      <td>Horror</td>\n",
       "      <td>5.9</td>\n",
       "      <td>59</td>\n",
       "      <td>Arshad Siddiqui</td>\n",
       "      <td>Pankaj Berry</td>\n",
       "      <td>Anubhav Dhir</td>\n",
       "      <td>Hritu Dudani</td>\n",
       "      <td>Pankaj Berry,Anubhav Dhir,Hritu Dudani</td>\n",
       "      <td>266</td>\n",
       "      <td>316</td>\n",
       "      <td>3230</td>\n",
       "    </tr>\n",
       "    <tr>\n",
       "      <th>12</th>\n",
       "      <td>100 Days</td>\n",
       "      <td>1991</td>\n",
       "      <td>161</td>\n",
       "      <td>Horror, Romance, Thriller</td>\n",
       "      <td>6.5</td>\n",
       "      <td>983</td>\n",
       "      <td>Partho Ghosh</td>\n",
       "      <td>Jackie Shroff</td>\n",
       "      <td>Madhuri Dixit</td>\n",
       "      <td>Javed Jaffrey</td>\n",
       "      <td>Jackie Shroff,Madhuri Dixit,Javed Jaffrey</td>\n",
       "      <td>1374</td>\n",
       "      <td>323</td>\n",
       "      <td>1900</td>\n",
       "    </tr>\n",
       "    <tr>\n",
       "      <th>13</th>\n",
       "      <td>100% Love</td>\n",
       "      <td>2012</td>\n",
       "      <td>166</td>\n",
       "      <td>Comedy, Drama, Romance</td>\n",
       "      <td>5.7</td>\n",
       "      <td>512</td>\n",
       "      <td>Rabi Kinagi</td>\n",
       "      <td>Jeet</td>\n",
       "      <td>Koyel Mallick</td>\n",
       "      <td>Sujoy Ghosh</td>\n",
       "      <td>Jeet,Koyel Mallick,Sujoy Ghosh</td>\n",
       "      <td>1506</td>\n",
       "      <td>159</td>\n",
       "      <td>1982</td>\n",
       "    </tr>\n",
       "  </tbody>\n",
       "</table>\n",
       "</div>"
      ],
      "text/plain": [
       "                                  Name  Year  Duration  \\\n",
       "1   #Gadhvi (He thought he was Gandhi)  2019       109   \n",
       "3                              #Yaaram  2019       110   \n",
       "5                 ...Aur Pyaar Ho Gaya  1997       147   \n",
       "6                            ...Yahaan  2005       142   \n",
       "8                   ?: A Question Mark  2012        82   \n",
       "9                             @Andheri  2014       116   \n",
       "10           1:1.6 An Ode to Lost Love  2004        96   \n",
       "11                1:13:7 Ek Tera Saath  2016       120   \n",
       "12                            100 Days  1991       161   \n",
       "13                           100% Love  2012       166   \n",
       "\n",
       "                        Genre  Rating  Votes           Director  \\\n",
       "1                       Drama     7.0      8      Gaurav Bakshi   \n",
       "3             Comedy, Romance     4.4     35         Ovais Khan   \n",
       "5      Comedy, Drama, Musical     4.7    827       Rahul Rawail   \n",
       "6         Drama, Romance, War     7.4   1086     Shoojit Sircar   \n",
       "8   Horror, Mystery, Thriller     5.6    326      Allyson Patel   \n",
       "9     Action, Crime, Thriller     4.0     11  Biju Bhaskar Nair   \n",
       "10                      Drama     6.2     17        Madhu Ambat   \n",
       "11                     Horror     5.9     59    Arshad Siddiqui   \n",
       "12  Horror, Romance, Thriller     6.5    983       Partho Ghosh   \n",
       "13     Comedy, Drama, Romance     5.7    512        Rabi Kinagi   \n",
       "\n",
       "            Actor 1                 Actor 2          Actor 3  \\\n",
       "1      Rasika Dugal          Vivek Ghamande    Arvind Jangid   \n",
       "3           Prateik              Ishita Raj  Siddhant Kapoor   \n",
       "5        Bobby Deol  Aishwarya Rai Bachchan    Shammi Kapoor   \n",
       "6   Jimmy Sheirgill          Minissha Lamba   Yashpal Sharma   \n",
       "8         Yash Dave          Muntazir Ahmad     Kiran Bhatia   \n",
       "9         Augustine            Fathima Babu             Byon   \n",
       "10   Rati Agnihotri          Gulshan Grover    Atul Kulkarni   \n",
       "11     Pankaj Berry            Anubhav Dhir     Hritu Dudani   \n",
       "12    Jackie Shroff           Madhuri Dixit    Javed Jaffrey   \n",
       "13             Jeet           Koyel Mallick      Sujoy Ghosh   \n",
       "\n",
       "                                              Actor  Directors  Genres  Actors  \n",
       "1         Rasika Dugal,Vivek Ghamande,Arvind Jangid        629     229    3875  \n",
       "3                Prateik,Ishita Raj,Siddhant Kapoor       1335     184    3343  \n",
       "5   Bobby Deol,Aishwarya Rai Bachchan,Shammi Kapoor       1530     157    1119  \n",
       "6     Jimmy Sheirgill,Minissha Lamba,Yashpal Sharma       2044     289    2086  \n",
       "8             Yash Dave,Muntazir Ahmad,Kiran Bhatia        135     320    5562  \n",
       "9                       Augustine,Fathima Babu,Byon        401      37     974  \n",
       "10      Rati Agnihotri,Gulshan Grover,Atul Kulkarni       1083     229    3880  \n",
       "11           Pankaj Berry,Anubhav Dhir,Hritu Dudani        266     316    3230  \n",
       "12        Jackie Shroff,Madhuri Dixit,Javed Jaffrey       1374     323    1900  \n",
       "13                   Jeet,Koyel Mallick,Sujoy Ghosh       1506     159    1982  "
      ]
     },
     "execution_count": 25,
     "metadata": {},
     "output_type": "execute_result"
    }
   ],
   "source": [
    "df_movie[\"Actor\"] = df_movie['Actor 1'] + ',' + df_movie['Actor 2'] + ',' + df_movie['Actor 3']\n",
    "df_movie[\"Directors\"] = df_movie['Director'].astype('category').cat.codes\n",
    "df_movie[\"Genres\"] = df_movie['Genre'].astype('category').cat.codes\n",
    "df_movie[\"Actors\"] = df_movie['Actor'].astype('category').cat.codes\n",
    "df_movie.head(10)"
   ]
  },
  {
   "cell_type": "code",
   "execution_count": 30,
   "id": "6da53f0f",
   "metadata": {},
   "outputs": [],
   "source": [
    "x = df_movie.drop(['Name','Genre','Rating','Director','Actor 1','Actor 2','Actor 3','Actor','Directors','Genres','Actors'], axis = 1)\n",
    "y = df_movie['Rating']"
   ]
  },
  {
   "cell_type": "code",
   "execution_count": 31,
   "id": "b778c516",
   "metadata": {},
   "outputs": [
    {
     "data": {
      "text/html": [
       "<div>\n",
       "<style scoped>\n",
       "    .dataframe tbody tr th:only-of-type {\n",
       "        vertical-align: middle;\n",
       "    }\n",
       "\n",
       "    .dataframe tbody tr th {\n",
       "        vertical-align: top;\n",
       "    }\n",
       "\n",
       "    .dataframe thead th {\n",
       "        text-align: right;\n",
       "    }\n",
       "</style>\n",
       "<table border=\"1\" class=\"dataframe\">\n",
       "  <thead>\n",
       "    <tr style=\"text-align: right;\">\n",
       "      <th></th>\n",
       "      <th>Year</th>\n",
       "      <th>Duration</th>\n",
       "      <th>Votes</th>\n",
       "    </tr>\n",
       "  </thead>\n",
       "  <tbody>\n",
       "    <tr>\n",
       "      <th>1</th>\n",
       "      <td>2019</td>\n",
       "      <td>109</td>\n",
       "      <td>8</td>\n",
       "    </tr>\n",
       "    <tr>\n",
       "      <th>3</th>\n",
       "      <td>2019</td>\n",
       "      <td>110</td>\n",
       "      <td>35</td>\n",
       "    </tr>\n",
       "    <tr>\n",
       "      <th>5</th>\n",
       "      <td>1997</td>\n",
       "      <td>147</td>\n",
       "      <td>827</td>\n",
       "    </tr>\n",
       "    <tr>\n",
       "      <th>6</th>\n",
       "      <td>2005</td>\n",
       "      <td>142</td>\n",
       "      <td>1086</td>\n",
       "    </tr>\n",
       "    <tr>\n",
       "      <th>8</th>\n",
       "      <td>2012</td>\n",
       "      <td>82</td>\n",
       "      <td>326</td>\n",
       "    </tr>\n",
       "    <tr>\n",
       "      <th>9</th>\n",
       "      <td>2014</td>\n",
       "      <td>116</td>\n",
       "      <td>11</td>\n",
       "    </tr>\n",
       "    <tr>\n",
       "      <th>10</th>\n",
       "      <td>2004</td>\n",
       "      <td>96</td>\n",
       "      <td>17</td>\n",
       "    </tr>\n",
       "    <tr>\n",
       "      <th>11</th>\n",
       "      <td>2016</td>\n",
       "      <td>120</td>\n",
       "      <td>59</td>\n",
       "    </tr>\n",
       "    <tr>\n",
       "      <th>12</th>\n",
       "      <td>1991</td>\n",
       "      <td>161</td>\n",
       "      <td>983</td>\n",
       "    </tr>\n",
       "    <tr>\n",
       "      <th>13</th>\n",
       "      <td>2012</td>\n",
       "      <td>166</td>\n",
       "      <td>512</td>\n",
       "    </tr>\n",
       "  </tbody>\n",
       "</table>\n",
       "</div>"
      ],
      "text/plain": [
       "    Year  Duration  Votes\n",
       "1   2019       109      8\n",
       "3   2019       110     35\n",
       "5   1997       147    827\n",
       "6   2005       142   1086\n",
       "8   2012        82    326\n",
       "9   2014       116     11\n",
       "10  2004        96     17\n",
       "11  2016       120     59\n",
       "12  1991       161    983\n",
       "13  2012       166    512"
      ]
     },
     "execution_count": 31,
     "metadata": {},
     "output_type": "execute_result"
    }
   ],
   "source": [
    "x.head(10)"
   ]
  },
  {
   "cell_type": "code",
   "execution_count": 43,
   "id": "605d685b",
   "metadata": {},
   "outputs": [
    {
     "data": {
      "text/plain": [
       "1     7.0\n",
       "3     4.4\n",
       "5     4.7\n",
       "6     7.4\n",
       "8     5.6\n",
       "9     4.0\n",
       "10    6.2\n",
       "11    5.9\n",
       "12    6.5\n",
       "13    5.7\n",
       "Name: Rating, dtype: float64"
      ]
     },
     "execution_count": 43,
     "metadata": {},
     "output_type": "execute_result"
    }
   ],
   "source": [
    "y.head(10)"
   ]
  },
  {
   "cell_type": "markdown",
   "id": "d3b9abf9",
   "metadata": {},
   "source": [
    "## Split train and Test dataset"
   ]
  },
  {
   "cell_type": "code",
   "execution_count": 33,
   "id": "fa6ce084",
   "metadata": {},
   "outputs": [],
   "source": [
    "from sklearn.model_selection import train_test_split\n",
    "x_train, x_test, y_train, y_test = train_test_split(x, y, test_size=0.2, random_state=1)"
   ]
  },
  {
   "cell_type": "code",
   "execution_count": 34,
   "id": "e5f2983d",
   "metadata": {},
   "outputs": [
    {
     "name": "stdout",
     "output_type": "stream",
     "text": [
      "[5.56704727 6.56456793 5.92509886 ... 5.98347482 5.79908168 6.37225752]\n"
     ]
    }
   ],
   "source": [
    "from sklearn.linear_model import LinearRegression\n",
    "LR = LinearRegression()\n",
    "LR.fit(x_train,y_train)\n",
    "lr_preds = LR.predict(x_test)\n",
    "print(lr_preds)"
   ]
  },
  {
   "cell_type": "code",
   "execution_count": 35,
   "id": "43b3e8d4",
   "metadata": {},
   "outputs": [],
   "source": [
    "from sklearn.metrics import mean_squared_error, r2_score as score"
   ]
  },
  {
   "cell_type": "code",
   "execution_count": 36,
   "id": "580c6917",
   "metadata": {},
   "outputs": [],
   "source": [
    "def evaluate_model(y_true,y_pred,model_name):\n",
    "    print(\"Model: \",model_name)\n",
    "    print(\"Accuracy = {:0.2f}%\".format(score(y_true,y_pred)*100))\n",
    "    print(\"Mean Squared Error = {:0.2f}\\n\".format(mean_squared_error(y_true,y_pred,squared=False)))\n",
    "    return round(score(y_true,y_pred)*100, 2)"
   ]
  },
  {
   "cell_type": "code",
   "execution_count": 37,
   "id": "43f48f7f",
   "metadata": {},
   "outputs": [
    {
     "name": "stdout",
     "output_type": "stream",
     "text": [
      "Model:  LINEAR REGRESSION\n",
      "Accuracy = 9.80%\n",
      "Mean Squared Error = 1.29\n",
      "\n"
     ]
    }
   ],
   "source": [
    "LRScore = evaluate_model(y_test,lr_preds,\"LINEAR REGRESSION\")"
   ]
  },
  {
   "cell_type": "code",
   "execution_count": 41,
   "id": "1ee5d603",
   "metadata": {},
   "outputs": [
    {
     "data": {
      "image/png": "[encoded data removed]",
      "text/plain": [
       "<Figure size 576x864 with 2 Axes>"
      ]
     },
     "metadata": {
      "needs_background": "light"
     },
     "output_type": "display_data"
    }
   ],
   "source": [
    "\n",
    "y_test = np.random.rand(100)*10\n",
    "y_pred = np.random.rand(100)*10\n",
    "error = y_test - y_pred\n",
    "fig,axs = plt.subplots(2,1,figsize=(8,12))\n",
    "\n",
    "axs[0].scatter(y_test,y_pred,color='indigo')\n",
    "axs[0].set_xlabel('Actual Ratings')\n",
    "axs[0].set_ylabel('Predicted Ratings')\n",
    "\n",
    "#Histogram\n",
    "axs[1].hist(error,bins=30,color='blue')\n",
    "axs[1].set_xlabel('Prediction Errors')\n",
    "axs[1].set_ylabel('Frequency')\n",
    "axs[1].set_title('Distribution of Prediction Errors')\n",
    "axs[1].axvline(x=0,color='r',linestyle='--')\n",
    "plt.show()\n"
   ]
  },
  {
   "cell_type": "code",
   "execution_count": null,
   "id": "dc564631",
   "metadata": {},
   "outputs": [],
   "source": []
  }
 ],
 "metadata": {
  "kernelspec": {
   "display_name": "Python 3 (ipykernel)",
   "language": "python",
   "name": "python3"
  },
  "language_info": {
   "codemirror_mode": {
    "name": "ipython",
    "version": 3
   },
   "file_extension": ".py",
   "mimetype": "text/x-python",
   "name": "python",
   "nbconvert_exporter": "python",
   "pygments_lexer": "ipython3",
   "version": "3.9.7"
  }
 },
 "nbformat": 4,
 "nbformat_minor": 5
}
